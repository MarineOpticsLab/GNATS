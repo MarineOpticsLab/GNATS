{
 "cells": [
  {
   "cell_type": "markdown",
   "id": "7a2f4650-a97e-4416-b66c-6da72e3249eb",
   "metadata": {},
   "source": [
    "**SRP 04/21/2021:**\n",
    "\n",
    "**PURPOSE:** Configure underway and discrete files that were extracted from the database."
   ]
  },
  {
   "cell_type": "code",
   "execution_count": 1,
   "id": "5f78f4ab-931b-4c0f-9edd-3c46556d025d",
   "metadata": {},
   "outputs": [],
   "source": [
    "import pandas as pd\n",
    "import numpy as np"
   ]
  },
  {
   "cell_type": "code",
   "execution_count": 2,
   "id": "a9b55925-e8e9-435b-a7b9-88e6faf6c084",
   "metadata": {},
   "outputs": [],
   "source": [
    "underway = pd.read_csv('/mnt/storage/labs/mitchell/projects/nasacms2018/analysis/data/gnatsat_workflow/01a-underway-gnats.csv', na_values=-999)\n",
    "discrete = pd.read_csv('/mnt/storage/labs/mitchell/projects/nasacms2018/analysis/data/gnatsat_workflow/02a-discrete-gnats.csv', na_values=-999)\n",
    "xbt = pd.read_csv('/mnt/storage/labs/mitchell/projects/nasacms2018/analysis/data/gnatsat_workflow/03-xbt-gnats.csv', na_values=-999)"
   ]
  },
  {
   "cell_type": "markdown",
   "id": "e13b2342-191d-4da0-b3a4-21aac58041b6",
   "metadata": {},
   "source": [
    "### UW Formatting:\n",
    "\n",
    "* Drop unnecessary columns\n",
    "* Drop Nan columns\n",
    "* Rename columns\n",
    "* Calculate and insert bb standard error columns\n",
    "* Check for cruisename and datetime disagreement\n",
    "* Sort by datetime"
   ]
  },
  {
   "cell_type": "code",
   "execution_count": 9,
   "id": "95d96c2e-0aa2-4078-b9cd-c9266186e1a2",
   "metadata": {},
   "outputs": [],
   "source": [
    "uw = underway.copy()\n",
    "uw_rm_cols = ['CruiseID','UWStation', 'Cast']\n",
    "uw_rename_cols = {'Temperature':'UWTemperature','Salinity':'UWSalinity','SigmaTheta':'UWSigmaTheta'}\n",
    "uw_nan_cols = [col for col in uw.columns[uw.isnull().all()]]\n",
    "\n",
    "# Drop Columns:\n",
    "uw.drop(columns=uw_rm_cols + uw_nan_cols, inplace=True)\n",
    "\n",
    "# Rename Columns:\n",
    "uw.rename(columns=uw_rename_cols, inplace=True)\n",
    "\n",
    "# BB St.Err. Columns:\n",
    "uw.insert(uw.columns.get_loc('bbprimeStd')+1, 'bbprimeStErr', uw['bbprimeStd']/np.sqrt(uw['numSamples']))\n",
    "uw.insert(uw.columns.get_loc('bbtot532Std')+1, 'bbtot532StErr', uw['bbtot532Std']/np.sqrt(uw['numSamples']))\n",
    "uw.insert(uw.columns.get_loc('bbacidStd')+1, 'bbacidStErr', uw['bbacidStd']/np.sqrt(uw['numSamples']))\n",
    "\n",
    "# Sort Dataframe by Datetime\n",
    "uw['UWTime'] = pd.to_datetime(uw['UWTime'])\n",
    "uw.sort_values(by='UWTime', inplace=True, ignore_index=True)\n",
    "\n",
    "uw.to_csv('/mnt/storage/labs/mitchell/projects/nasacms2018/analysis/data/gnatsat_workflow/01b-underway-formatted-gnats.csv', index=False)"
   ]
  },
  {
   "cell_type": "markdown",
   "id": "ced4689c-b872-4aae-a4da-174e8422d199",
   "metadata": {},
   "source": [
    "### Discrete Formatting:\n",
    "\n",
    "* Drop unnecessary columns\n",
    "* Drop nan columns\n",
    "* Rename columns\n",
    "* Check for cruisename and datetime disagreement\n",
    "* Sort by datetime\n",
    "* Note that the discrete file was taken largely from the StationDataTable in the database. This table combines both Balch Lab discrete samples, and CTD data. However, for GNATS cruises, there is no CTD data. Therefore, all of the CTD related variables/columns will be null. We need to drop these columns."
   ]
  },
  {
   "cell_type": "code",
   "execution_count": 10,
   "id": "30218947-fcfd-4b60-bcda-d1871a166c75",
   "metadata": {},
   "outputs": [],
   "source": [
    "d = discrete.copy()\n",
    "d_rm_cols = ['StationNumber', 'BalchSampleNumber', 'Niskin', 'TimeFired', 'Forel-Ule']\n",
    "d_nan_cols = [col for col in d.columns[d.isnull().all()]]\n",
    "\n",
    "# Drop Columns:\n",
    "d.drop(columns=d_rm_cols + d_nan_cols, inplace=True)\n",
    "\n",
    "# Sort Dataframe by Datetime, secondarily by StationInfoID\n",
    "d['StationTime'] = pd.to_datetime(d['StationTime'])\n",
    "d.sort_values(by='StationTime', inplace=True, ignore_index=True)\n",
    "\n",
    "d.to_csv('/mnt/storage/labs/mitchell/projects/nasacms2018/analysis/data/gnatsat_workflow/02b-discrete-formatted-gnats.csv', index=False)"
   ]
  },
  {
   "cell_type": "code",
   "execution_count": null,
   "id": "6786f635-7b87-4d83-9730-aed6fdfe8983",
   "metadata": {},
   "outputs": [],
   "source": []
  },
  {
   "cell_type": "code",
   "execution_count": null,
   "id": "bb5fdd60-6499-41b5-8584-4edd524a6af2",
   "metadata": {},
   "outputs": [],
   "source": []
  },
  {
   "cell_type": "code",
   "execution_count": null,
   "id": "9e342357-ec1a-429f-a6fd-a8f36920bd41",
   "metadata": {},
   "outputs": [],
   "source": []
  },
  {
   "cell_type": "code",
   "execution_count": null,
   "id": "6be3a860-1f3d-429d-9ae8-fbcb6102ed2d",
   "metadata": {},
   "outputs": [],
   "source": []
  },
  {
   "cell_type": "code",
   "execution_count": null,
   "id": "919b97b7-d09e-4479-989b-15c6ded79647",
   "metadata": {},
   "outputs": [],
   "source": []
  },
  {
   "cell_type": "code",
   "execution_count": null,
   "id": "75add6c9-463b-4616-86aa-6b67b8702546",
   "metadata": {},
   "outputs": [],
   "source": []
  },
  {
   "cell_type": "code",
   "execution_count": null,
   "id": "367a27d8-312f-4e2c-b8c6-e1d25d93a1bd",
   "metadata": {},
   "outputs": [],
   "source": []
  },
  {
   "cell_type": "markdown",
   "id": "cb097b64-c4de-41b2-ae04-8a69dba3f3fc",
   "metadata": {},
   "source": [
    "* UWStation matches d.StationNumber\n",
    "\n",
    "\n",
    "* Temperature is UW system temperature, from UWDataTable\n",
    "* Salinity is UW system\n",
    "* SigmaTheta from UW system\n",
    "* StationInfoID matches XBT StationInfoID\n",
    "* Longitude, Latitude, from discrete\n",
    "* Temperature1, Temperature2 from CTD\n",
    "* Salinity1, Salinity2 from CTD\n",
    "* SigT1, SigT2, from CTD"
   ]
  },
  {
   "cell_type": "code",
   "execution_count": 22,
   "id": "41cec703-2e8e-441f-9a1f-da5b9619c6f9",
   "metadata": {},
   "outputs": [
    {
     "data": {
      "text/plain": [
       "Index(['StationInfoID', 'CastType', 'StationTime', 'Latitude', 'Longitude',\n",
       "       'Depth', 'Temperature1'],\n",
       "      dtype='object')"
      ]
     },
     "execution_count": 22,
     "metadata": {},
     "output_type": "execute_result"
    }
   ],
   "source": [
    "xbt.columns"
   ]
  },
  {
   "cell_type": "code",
   "execution_count": null,
   "id": "b7ac66b9-1fcc-4733-80ae-0fc12411d1ed",
   "metadata": {},
   "outputs": [],
   "source": []
  },
  {
   "cell_type": "code",
   "execution_count": null,
   "id": "6cd80cd2-fa69-4f16-b962-97bfc9e111ab",
   "metadata": {},
   "outputs": [],
   "source": []
  }
 ],
 "metadata": {
  "kernelspec": {
   "display_name": "Python 3 (ipykernel)",
   "language": "python",
   "name": "python3"
  },
  "language_info": {
   "codemirror_mode": {
    "name": "ipython",
    "version": 3
   },
   "file_extension": ".py",
   "mimetype": "text/x-python",
   "name": "python",
   "nbconvert_exporter": "python",
   "pygments_lexer": "ipython3",
   "version": "3.9.7"
  }
 },
 "nbformat": 4,
 "nbformat_minor": 5
}
